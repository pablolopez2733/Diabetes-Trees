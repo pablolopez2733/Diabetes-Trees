{
 "cells": [
  {
   "cell_type": "markdown",
   "metadata": {},
   "source": [
    "# Proyecto 1 \n",
    "# Árboles de decisión para la predicción de diabetes\n",
    "## Minería de Datos\n",
    "\n",
    "\n",
    " * Juan Pablo Álvarez Gamboa 165815   \n",
    " \n",
    " * Pablo López Landeros 178863"
   ]
  },
  {
   "cell_type": "markdown",
   "metadata": {},
   "source": [
    "### Lectura de los datos"
   ]
  },
  {
   "cell_type": "code",
   "execution_count": 70,
   "metadata": {},
   "outputs": [],
   "source": [
    "import pandas as pd\n",
    "from IPython.display import display\n",
    "import numpy as np\n",
    "import matplotlib.pyplot as plt\n",
    "import seaborn as sns\n",
    "import sklearn\n",
    "\n",
    "np.random.seed(165815)"
   ]
  },
  {
   "cell_type": "code",
   "execution_count": 71,
   "metadata": {},
   "outputs": [
    {
     "data": {
      "text/html": [
       "<div>\n",
       "<style scoped>\n",
       "    .dataframe tbody tr th:only-of-type {\n",
       "        vertical-align: middle;\n",
       "    }\n",
       "\n",
       "    .dataframe tbody tr th {\n",
       "        vertical-align: top;\n",
       "    }\n",
       "\n",
       "    .dataframe thead th {\n",
       "        text-align: right;\n",
       "    }\n",
       "</style>\n",
       "<table border=\"1\" class=\"dataframe\">\n",
       "  <thead>\n",
       "    <tr style=\"text-align: right;\">\n",
       "      <th></th>\n",
       "      <th>Pregnancies</th>\n",
       "      <th>Glucose</th>\n",
       "      <th>BloodPressure</th>\n",
       "      <th>SkinThickness</th>\n",
       "      <th>Insulin</th>\n",
       "      <th>BMI</th>\n",
       "      <th>DiabetesPedigreeFunction</th>\n",
       "      <th>Age</th>\n",
       "      <th>Outcome</th>\n",
       "    </tr>\n",
       "  </thead>\n",
       "  <tbody>\n",
       "    <tr>\n",
       "      <th>0</th>\n",
       "      <td>6</td>\n",
       "      <td>148</td>\n",
       "      <td>72</td>\n",
       "      <td>35</td>\n",
       "      <td>0</td>\n",
       "      <td>33.6</td>\n",
       "      <td>0.627</td>\n",
       "      <td>50</td>\n",
       "      <td>1</td>\n",
       "    </tr>\n",
       "    <tr>\n",
       "      <th>1</th>\n",
       "      <td>1</td>\n",
       "      <td>85</td>\n",
       "      <td>66</td>\n",
       "      <td>29</td>\n",
       "      <td>0</td>\n",
       "      <td>26.6</td>\n",
       "      <td>0.351</td>\n",
       "      <td>31</td>\n",
       "      <td>0</td>\n",
       "    </tr>\n",
       "    <tr>\n",
       "      <th>2</th>\n",
       "      <td>8</td>\n",
       "      <td>183</td>\n",
       "      <td>64</td>\n",
       "      <td>0</td>\n",
       "      <td>0</td>\n",
       "      <td>23.3</td>\n",
       "      <td>0.672</td>\n",
       "      <td>32</td>\n",
       "      <td>1</td>\n",
       "    </tr>\n",
       "    <tr>\n",
       "      <th>3</th>\n",
       "      <td>1</td>\n",
       "      <td>89</td>\n",
       "      <td>66</td>\n",
       "      <td>23</td>\n",
       "      <td>94</td>\n",
       "      <td>28.1</td>\n",
       "      <td>0.167</td>\n",
       "      <td>21</td>\n",
       "      <td>0</td>\n",
       "    </tr>\n",
       "    <tr>\n",
       "      <th>4</th>\n",
       "      <td>0</td>\n",
       "      <td>137</td>\n",
       "      <td>40</td>\n",
       "      <td>35</td>\n",
       "      <td>168</td>\n",
       "      <td>43.1</td>\n",
       "      <td>2.288</td>\n",
       "      <td>33</td>\n",
       "      <td>1</td>\n",
       "    </tr>\n",
       "  </tbody>\n",
       "</table>\n",
       "</div>"
      ],
      "text/plain": [
       "   Pregnancies  Glucose  BloodPressure  SkinThickness  Insulin   BMI  \\\n",
       "0            6      148             72             35        0  33.6   \n",
       "1            1       85             66             29        0  26.6   \n",
       "2            8      183             64              0        0  23.3   \n",
       "3            1       89             66             23       94  28.1   \n",
       "4            0      137             40             35      168  43.1   \n",
       "\n",
       "   DiabetesPedigreeFunction  Age  Outcome  \n",
       "0                     0.627   50        1  \n",
       "1                     0.351   31        0  \n",
       "2                     0.672   32        1  \n",
       "3                     0.167   21        0  \n",
       "4                     2.288   33        1  "
      ]
     },
     "execution_count": 71,
     "metadata": {},
     "output_type": "execute_result"
    }
   ],
   "source": [
    "df=pd.read_csv(\"diabetes.csv\")\n",
    "df.head()"
   ]
  },
  {
   "cell_type": "markdown",
   "metadata": {},
   "source": [
    "### Limpieza de datos"
   ]
  },
  {
   "cell_type": "code",
   "execution_count": 72,
   "metadata": {},
   "outputs": [],
   "source": [
    "def _cleaner(col):\n",
    "    \"\"\"\n",
    "    Clean a specific column\n",
    "    \n",
    "    :param: column name to clean\n",
    "    :return: column cleaned, without blank spaces, point and accents\n",
    "    \"\"\"\n",
    "    return col.lower()\\\n",
    "    .replace(' ','_').replace('.','')\\\n",
    "    .replace('/','_').replace(';','')\\\n",
    "    .replace('á','a').replace('é','e')\\\n",
    "    .replace('í','i').replace('ó','o')\\\n",
    "    .replace('ú','u')\n",
    "\n",
    "\n",
    "def clean_column_names(df):\n",
    "    \"\"\"\n",
    "    Clean column names of a dataframe: to lower, without accents, without spaces, without punctuation signs\n",
    "    \n",
    "    :param: dataframe to clean column names\n",
    "    :return: dataframe with clean column names\n",
    "    \"\"\"\n",
    "    cols = {col_name: _cleaner(col_name) for col_name in df.columns.values}\n",
    "    return df.rename(columns=cols, inplace=True)\n",
    "    "
   ]
  },
  {
   "cell_type": "code",
   "execution_count": 73,
   "metadata": {},
   "outputs": [
    {
     "data": {
      "text/plain": [
       "Index(['pregnancies', 'glucose', 'bloodpressure', 'skinthickness', 'insulin',\n",
       "       'bmi', 'diabetespedigreefunction', 'age', 'outcome'],\n",
       "      dtype='object')"
      ]
     },
     "metadata": {},
     "output_type": "display_data"
    }
   ],
   "source": [
    "clean_column_names(df)\n",
    "display(df.columns)"
   ]
  },
  {
   "cell_type": "code",
   "execution_count": 74,
   "metadata": {},
   "outputs": [
    {
     "data": {
      "text/plain": [
       "pregnancies                   int64\n",
       "glucose                       int64\n",
       "bloodpressure                 int64\n",
       "skinthickness                 int64\n",
       "insulin                       int64\n",
       "bmi                         float64\n",
       "diabetespedigreefunction    float64\n",
       "age                           int64\n",
       "outcome                       int64\n",
       "dtype: object"
      ]
     },
     "metadata": {},
     "output_type": "display_data"
    }
   ],
   "source": [
    "#Tipos de dato de las variables\n",
    "display(df.dtypes)"
   ]
  },
  {
   "cell_type": "markdown",
   "metadata": {},
   "source": [
    "### Data Profiling"
   ]
  },
  {
   "cell_type": "markdown",
   "metadata": {},
   "source": [
    "Para el EDA utilizamos la librería Pandas Profiling. Sin embargo, sabemos que es una librería problemática de instalar entonces hicimos también un EDA \"manual\". Para correr el EDA con Pandas Profiling, hay que descomentar las siguientes dos celdas. "
   ]
  },
  {
   "cell_type": "markdown",
   "metadata": {},
   "source": [
    "#### Con Pandas Profiling:"
   ]
  },
  {
   "cell_type": "code",
   "execution_count": 75,
   "metadata": {},
   "outputs": [],
   "source": [
    "#import pandas profiling\n",
    "#from pandas_profiling import ProfileReport\n",
    "#import pandas_profiling as pp\n",
    "#from IPython.core.display import display, HTML\n",
    "#from IPython.display import IFrame "
   ]
  },
  {
   "cell_type": "code",
   "execution_count": 76,
   "metadata": {},
   "outputs": [],
   "source": [
    "#profilep = df.profile_report()\n",
    "#profilep.to_notebook_iframe()"
   ]
  },
  {
   "cell_type": "markdown",
   "metadata": {},
   "source": [
    "#### Con la función vista en clase: "
   ]
  },
  {
   "cell_type": "code",
   "execution_count": 77,
   "metadata": {},
   "outputs": [],
   "source": [
    "def numeric_profiling(df, col, profiling_dict):\n",
    "    \"\"\"\n",
    "    Profiling for numeric columns. \n",
    "    \n",
    "    :param: column to analyze\n",
    "    :return: dictionary\n",
    "    \"\"\"\n",
    "    profiling = {}\n",
    "\n",
    "    profiling.update({'max': df[col].max(),\n",
    "                     'min': df[col].min(),\n",
    "                     'mean': df[col].mean(),\n",
    "                     'stdv': df[col].std(),\n",
    "                     '25%': df[col].quantile(.25),\n",
    "                     'median': df[col].median(),\n",
    "                     '75%': df[col].quantile(.75),\n",
    "                     'kurtosis': df[col].kurt(),\n",
    "                     'skewness': df[col].skew(),\n",
    "                     'uniques': df[col].nunique(),\n",
    "                     'prop_missings': sum(df[col].isna())/df[col].size*100,\n",
    "                     'top1_repeated': get_repeated_values(df, col, 1),\n",
    "                     'top2_repeated': get_repeated_values(df, col, 2),\n",
    "                     'top3_repeated': get_repeated_values(df, col, 3)})\n",
    "    \n",
    "    profiling_dict.update({col: profiling})\n",
    "    \n",
    "    return profiling_dict"
   ]
  },
  {
   "cell_type": "code",
   "execution_count": 78,
   "metadata": {},
   "outputs": [],
   "source": [
    "def get_repeated_values(df, col, top):\n",
    "    top_5 = df.groupby([col])[col]\\\n",
    "                    .count()\\\n",
    "                    .sort_values(ascending = False)\\\n",
    "                    .head()\n",
    "    indexes_top_5 = top_5.index\n",
    "    \n",
    "    if ((top == 1) and (len(indexes_top_5) > 0)):\n",
    "        return indexes_top_5[0]\n",
    "    elif ((top == 2) and (len(indexes_top_5) > 1)):\n",
    "        return indexes_top_5[1]\n",
    "    elif ((top == 3) and (len(indexes_top_5) > 2)):\n",
    "        return indexes_top_5[2]\n",
    "    else: \n",
    "        return 'undefined'"
   ]
  },
  {
   "cell_type": "code",
   "execution_count": 79,
   "metadata": {},
   "outputs": [],
   "source": [
    "variables = df.columns.values\n",
    "profiling_dict = {}\n",
    "\n",
    "numeric_profiling_output = [numeric_profiling(df, elem, profiling_dict)\\\n",
    "                            for elem in variables]"
   ]
  },
  {
   "cell_type": "code",
   "execution_count": 80,
   "metadata": {},
   "outputs": [
    {
     "data": {
      "text/html": [
       "<div>\n",
       "<style scoped>\n",
       "    .dataframe tbody tr th:only-of-type {\n",
       "        vertical-align: middle;\n",
       "    }\n",
       "\n",
       "    .dataframe tbody tr th {\n",
       "        vertical-align: top;\n",
       "    }\n",
       "\n",
       "    .dataframe thead th {\n",
       "        text-align: right;\n",
       "    }\n",
       "</style>\n",
       "<table border=\"1\" class=\"dataframe\">\n",
       "  <thead>\n",
       "    <tr style=\"text-align: right;\">\n",
       "      <th></th>\n",
       "      <th>metric</th>\n",
       "      <th>pregnancies</th>\n",
       "      <th>glucose</th>\n",
       "      <th>bloodpressure</th>\n",
       "      <th>skinthickness</th>\n",
       "      <th>insulin</th>\n",
       "      <th>bmi</th>\n",
       "      <th>diabetespedigreefunction</th>\n",
       "      <th>age</th>\n",
       "      <th>outcome</th>\n",
       "    </tr>\n",
       "  </thead>\n",
       "  <tbody>\n",
       "    <tr>\n",
       "      <th>0</th>\n",
       "      <td>max</td>\n",
       "      <td>17.000000</td>\n",
       "      <td>199.000000</td>\n",
       "      <td>122.000000</td>\n",
       "      <td>99.000000</td>\n",
       "      <td>846.000000</td>\n",
       "      <td>67.100000</td>\n",
       "      <td>2.420000</td>\n",
       "      <td>81.000000</td>\n",
       "      <td>1</td>\n",
       "    </tr>\n",
       "    <tr>\n",
       "      <th>1</th>\n",
       "      <td>min</td>\n",
       "      <td>0.000000</td>\n",
       "      <td>0.000000</td>\n",
       "      <td>0.000000</td>\n",
       "      <td>0.000000</td>\n",
       "      <td>0.000000</td>\n",
       "      <td>0.000000</td>\n",
       "      <td>0.078000</td>\n",
       "      <td>21.000000</td>\n",
       "      <td>0</td>\n",
       "    </tr>\n",
       "    <tr>\n",
       "      <th>2</th>\n",
       "      <td>mean</td>\n",
       "      <td>3.845052</td>\n",
       "      <td>120.894531</td>\n",
       "      <td>69.105469</td>\n",
       "      <td>20.536458</td>\n",
       "      <td>79.799479</td>\n",
       "      <td>31.992578</td>\n",
       "      <td>0.471876</td>\n",
       "      <td>33.240885</td>\n",
       "      <td>0.348958</td>\n",
       "    </tr>\n",
       "    <tr>\n",
       "      <th>3</th>\n",
       "      <td>stdv</td>\n",
       "      <td>3.369578</td>\n",
       "      <td>31.972618</td>\n",
       "      <td>19.355807</td>\n",
       "      <td>15.952218</td>\n",
       "      <td>115.244002</td>\n",
       "      <td>7.884160</td>\n",
       "      <td>0.331329</td>\n",
       "      <td>11.760232</td>\n",
       "      <td>0.476951</td>\n",
       "    </tr>\n",
       "    <tr>\n",
       "      <th>4</th>\n",
       "      <td>25%</td>\n",
       "      <td>1.000000</td>\n",
       "      <td>99.000000</td>\n",
       "      <td>62.000000</td>\n",
       "      <td>0.000000</td>\n",
       "      <td>0.000000</td>\n",
       "      <td>27.300000</td>\n",
       "      <td>0.243750</td>\n",
       "      <td>24.000000</td>\n",
       "      <td>0</td>\n",
       "    </tr>\n",
       "    <tr>\n",
       "      <th>5</th>\n",
       "      <td>median</td>\n",
       "      <td>3.000000</td>\n",
       "      <td>117.000000</td>\n",
       "      <td>72.000000</td>\n",
       "      <td>23.000000</td>\n",
       "      <td>30.500000</td>\n",
       "      <td>32.000000</td>\n",
       "      <td>0.372500</td>\n",
       "      <td>29.000000</td>\n",
       "      <td>0</td>\n",
       "    </tr>\n",
       "    <tr>\n",
       "      <th>6</th>\n",
       "      <td>75%</td>\n",
       "      <td>6.000000</td>\n",
       "      <td>140.250000</td>\n",
       "      <td>80.000000</td>\n",
       "      <td>32.000000</td>\n",
       "      <td>127.250000</td>\n",
       "      <td>36.600000</td>\n",
       "      <td>0.626250</td>\n",
       "      <td>41.000000</td>\n",
       "      <td>1</td>\n",
       "    </tr>\n",
       "    <tr>\n",
       "      <th>7</th>\n",
       "      <td>kurtosis</td>\n",
       "      <td>0.159220</td>\n",
       "      <td>0.640780</td>\n",
       "      <td>5.180157</td>\n",
       "      <td>-0.520072</td>\n",
       "      <td>7.214260</td>\n",
       "      <td>3.290443</td>\n",
       "      <td>5.594954</td>\n",
       "      <td>0.643159</td>\n",
       "      <td>-1.60093</td>\n",
       "    </tr>\n",
       "    <tr>\n",
       "      <th>8</th>\n",
       "      <td>skewness</td>\n",
       "      <td>0.901674</td>\n",
       "      <td>0.173754</td>\n",
       "      <td>-1.843608</td>\n",
       "      <td>0.109372</td>\n",
       "      <td>2.272251</td>\n",
       "      <td>-0.428982</td>\n",
       "      <td>1.919911</td>\n",
       "      <td>1.129597</td>\n",
       "      <td>0.635017</td>\n",
       "    </tr>\n",
       "    <tr>\n",
       "      <th>9</th>\n",
       "      <td>uniques</td>\n",
       "      <td>17.000000</td>\n",
       "      <td>136.000000</td>\n",
       "      <td>47.000000</td>\n",
       "      <td>51.000000</td>\n",
       "      <td>186.000000</td>\n",
       "      <td>248.000000</td>\n",
       "      <td>517.000000</td>\n",
       "      <td>52.000000</td>\n",
       "      <td>2</td>\n",
       "    </tr>\n",
       "    <tr>\n",
       "      <th>10</th>\n",
       "      <td>prop_missings</td>\n",
       "      <td>0.000000</td>\n",
       "      <td>0.000000</td>\n",
       "      <td>0.000000</td>\n",
       "      <td>0.000000</td>\n",
       "      <td>0.000000</td>\n",
       "      <td>0.000000</td>\n",
       "      <td>0.000000</td>\n",
       "      <td>0.000000</td>\n",
       "      <td>0</td>\n",
       "    </tr>\n",
       "    <tr>\n",
       "      <th>11</th>\n",
       "      <td>top1_repeated</td>\n",
       "      <td>1.000000</td>\n",
       "      <td>100.000000</td>\n",
       "      <td>70.000000</td>\n",
       "      <td>0.000000</td>\n",
       "      <td>0.000000</td>\n",
       "      <td>32.000000</td>\n",
       "      <td>0.258000</td>\n",
       "      <td>22.000000</td>\n",
       "      <td>0</td>\n",
       "    </tr>\n",
       "    <tr>\n",
       "      <th>12</th>\n",
       "      <td>top2_repeated</td>\n",
       "      <td>0.000000</td>\n",
       "      <td>99.000000</td>\n",
       "      <td>74.000000</td>\n",
       "      <td>32.000000</td>\n",
       "      <td>105.000000</td>\n",
       "      <td>31.200000</td>\n",
       "      <td>0.254000</td>\n",
       "      <td>21.000000</td>\n",
       "      <td>1</td>\n",
       "    </tr>\n",
       "    <tr>\n",
       "      <th>13</th>\n",
       "      <td>top3_repeated</td>\n",
       "      <td>2.000000</td>\n",
       "      <td>129.000000</td>\n",
       "      <td>68.000000</td>\n",
       "      <td>30.000000</td>\n",
       "      <td>140.000000</td>\n",
       "      <td>31.600000</td>\n",
       "      <td>0.259000</td>\n",
       "      <td>25.000000</td>\n",
       "      <td>undefined</td>\n",
       "    </tr>\n",
       "  </tbody>\n",
       "</table>\n",
       "</div>"
      ],
      "text/plain": [
       "           metric  pregnancies     glucose  bloodpressure  skinthickness  \\\n",
       "0             max    17.000000  199.000000     122.000000      99.000000   \n",
       "1             min     0.000000    0.000000       0.000000       0.000000   \n",
       "2            mean     3.845052  120.894531      69.105469      20.536458   \n",
       "3            stdv     3.369578   31.972618      19.355807      15.952218   \n",
       "4             25%     1.000000   99.000000      62.000000       0.000000   \n",
       "5          median     3.000000  117.000000      72.000000      23.000000   \n",
       "6             75%     6.000000  140.250000      80.000000      32.000000   \n",
       "7        kurtosis     0.159220    0.640780       5.180157      -0.520072   \n",
       "8        skewness     0.901674    0.173754      -1.843608       0.109372   \n",
       "9         uniques    17.000000  136.000000      47.000000      51.000000   \n",
       "10  prop_missings     0.000000    0.000000       0.000000       0.000000   \n",
       "11  top1_repeated     1.000000  100.000000      70.000000       0.000000   \n",
       "12  top2_repeated     0.000000   99.000000      74.000000      32.000000   \n",
       "13  top3_repeated     2.000000  129.000000      68.000000      30.000000   \n",
       "\n",
       "       insulin         bmi  diabetespedigreefunction        age    outcome  \n",
       "0   846.000000   67.100000                  2.420000  81.000000          1  \n",
       "1     0.000000    0.000000                  0.078000  21.000000          0  \n",
       "2    79.799479   31.992578                  0.471876  33.240885   0.348958  \n",
       "3   115.244002    7.884160                  0.331329  11.760232   0.476951  \n",
       "4     0.000000   27.300000                  0.243750  24.000000          0  \n",
       "5    30.500000   32.000000                  0.372500  29.000000          0  \n",
       "6   127.250000   36.600000                  0.626250  41.000000          1  \n",
       "7     7.214260    3.290443                  5.594954   0.643159   -1.60093  \n",
       "8     2.272251   -0.428982                  1.919911   1.129597   0.635017  \n",
       "9   186.000000  248.000000                517.000000  52.000000          2  \n",
       "10    0.000000    0.000000                  0.000000   0.000000          0  \n",
       "11    0.000000   32.000000                  0.258000  22.000000          0  \n",
       "12  105.000000   31.200000                  0.254000  21.000000          1  \n",
       "13  140.000000   31.600000                  0.259000  25.000000  undefined  "
      ]
     },
     "execution_count": 80,
     "metadata": {},
     "output_type": "execute_result"
    }
   ],
   "source": [
    "df_numeric_profiling = pd.DataFrame(numeric_profiling_output[0]).reset_index()\n",
    "df_numeric_profiling.rename(columns={'index': 'metric'}, inplace=True)\n",
    "df_numeric_profiling"
   ]
  },
  {
   "cell_type": "markdown",
   "metadata": {},
   "source": [
    "### Preguntas\n",
    "1. ¿Qué valor de BMI tiene el 75% de tus datos?\n",
    "\n",
    "Obtuvimos que el 75% (Q3) de las observaciones tienen un valor de `bmi` entre 0 y 36.6. Esto se puede ver en el \"numeric profiling\" u obteniendo manualmente el cuartil .75 y ayudándonos con un diagrama de caja.\n"
   ]
  },
  {
   "cell_type": "code",
   "execution_count": 81,
   "metadata": {},
   "outputs": [
    {
     "data": {
      "text/plain": [
       "36.6"
      ]
     },
     "execution_count": 81,
     "metadata": {},
     "output_type": "execute_result"
    }
   ],
   "source": [
    "df['bmi'].quantile(.75)"
   ]
  },
  {
   "cell_type": "code",
   "execution_count": 82,
   "metadata": {},
   "outputs": [
    {
     "data": {
      "text/plain": [
       "Text(0.5, 1.0, 'Box Plot for the BMI variable')"
      ]
     },
     "execution_count": 82,
     "metadata": {},
     "output_type": "execute_result"
    },
    {
     "data": {
      "image/png": "[encoded data removed]",
      "text/plain": [
       "<Figure size 432x288 with 1 Axes>"
      ]
     },
     "metadata": {},
     "output_type": "display_data"
    }
   ],
   "source": [
    "sns.set(style=\"whitegrid\")\n",
    "ax = sns.boxplot(x=df[\"bmi\"])\n",
    "plt.title('Box Plot for the BMI variable')"
   ]
  },
  {
   "cell_type": "markdown",
   "metadata": {},
   "source": [
    "2. ¿Qué edad corresponde a la mediana?\n",
    "\n",
    "Desde el \"numeric profiling\" sabemos que la mediana para la variable `age` es 29.  \n",
    "Lo corroboramos nuevamente con una línea de código:\n",
    "\n",
    "\n"
   ]
  },
  {
   "cell_type": "code",
   "execution_count": 83,
   "metadata": {},
   "outputs": [
    {
     "data": {
      "text/plain": [
       "29.0"
      ]
     },
     "execution_count": 83,
     "metadata": {},
     "output_type": "execute_result"
    }
   ],
   "source": [
    "df[\"age\"].median()"
   ]
  },
  {
   "cell_type": "markdown",
   "metadata": {},
   "source": [
    "3. Cuántos hijos tiene el 75% de las mujeres en el dataset?   \n",
    "\n",
    "Para saber esto, necesitamos sacar el Q3 de la variable `pregnancies`. Podemos de nueva cuenta hacer un boxplot para ayudarnos visualmente y luego obtenerlo con una línea de código. Esto nos indica que el 75% de las mujeres en nuestro dataset tienen entre 0 y 6 hijos.  \n"
   ]
  },
  {
   "cell_type": "code",
   "execution_count": 84,
   "metadata": {},
   "outputs": [
    {
     "data": {
      "text/plain": [
       "6.0"
      ]
     },
     "execution_count": 84,
     "metadata": {},
     "output_type": "execute_result"
    }
   ],
   "source": [
    "df['pregnancies'].quantile(.75)"
   ]
  },
  {
   "cell_type": "code",
   "execution_count": 85,
   "metadata": {},
   "outputs": [
    {
     "data": {
      "text/plain": [
       "Text(0.5, 1.0, 'Box Plot for the \"pregnancies\" variable')"
      ]
     },
     "execution_count": 85,
     "metadata": {},
     "output_type": "execute_result"
    },
    {
     "data": {
      "image/png": "[encoded data removed]",
      "text/plain": [
       "<Figure size 432x288 with 1 Axes>"
      ]
     },
     "metadata": {},
     "output_type": "display_data"
    }
   ],
   "source": [
    "sns.set(style=\"whitegrid\")\n",
    "ax = sns.boxplot(x=df[\"pregnancies\"])\n",
    "plt.title('Box Plot for the \"pregnancies\" variable')"
   ]
  },
  {
   "cell_type": "markdown",
   "metadata": {},
   "source": [
    "4. ¿Cuántas observaciones tienes de diabetes?\n",
    "\n",
    "Si la variable `outcome` vale 1, la paciente tiene diabetes, y si vale 0, no tiene diabetes. Así, tenemos que de las 768 observaciones, 268 tienen diabetes.  "
   ]
  },
  {
   "cell_type": "code",
   "execution_count": 86,
   "metadata": {},
   "outputs": [
    {
     "data": {
      "text/plain": [
       "0    500\n",
       "1    268\n",
       "Name: outcome, dtype: int64"
      ]
     },
     "execution_count": 86,
     "metadata": {},
     "output_type": "execute_result"
    }
   ],
   "source": [
    "diabetes = df[\"outcome\"].value_counts()\n",
    "diabetes"
   ]
  },
  {
   "cell_type": "markdown",
   "metadata": {},
   "source": [
    "5. ¿Cuál es la mediana de número de hijos para mujeres entre 25 años y 35 años de edad (inclusive)?   "
   ]
  },
  {
   "cell_type": "code",
   "execution_count": 87,
   "metadata": {},
   "outputs": [
    {
     "name": "stdout",
     "output_type": "stream",
     "text": [
      "La mediana de número de hijos para mujeres entre 25 y 35 años es 3.0\n"
     ]
    }
   ],
   "source": [
    "#Creamos un df auxiliar dónde solo tenemos datos de las mujeres entre 25 y 35 años\n",
    "aux=df[(df[\"age\"]>=25) & (df[\"age\"]<=35)]\n",
    "#Obtenemos la mediana de embarazos del dataframe auxiliar\n",
    "print(\"La mediana de número de hijos para mujeres entre 25 y 35 años es \"+str(aux[\"pregnancies\"].median()))"
   ]
  },
  {
   "cell_type": "markdown",
   "metadata": {},
   "source": [
    "### Gráficas"
   ]
  },
  {
   "cell_type": "markdown",
   "metadata": {},
   "source": [
    "## 1."
   ]
  },
  {
   "cell_type": "markdown",
   "metadata": {},
   "source": [
    "![title](Graphs/CorrelationMatrix.jpg)"
   ]
  },
  {
   "cell_type": "markdown",
   "metadata": {},
   "source": [
    "La matriz de correlación nos muestra el coeficiente de correlación (R^2) entre las distintas variables de nuestro set de datos. En este caso se obtuvo con la librería Pandas Profiling. Si vemos cómo se relaciona la variable `outcome` con las demás, nos podemos dar una primera intuición de cuáles son las variables más relevantes para nuestro árbol de decisión. Notemos que la correlación más grande se da con la variable `glucose`. Esto tiene mucho sentido, ya que los pacientes diabéticos suelen presentar altos niveles de glucosa en la sangre. Otras correlaciones que resaltan son, por ejemplo, entre `age` y `pregnancies`, al igual que entre `insulin` y `skinthickness`. Llama también la atención que `insulin` no presente una correlación fuerte con `outcome` ya que un distinitivo de los pacientes diabéticos suele ser bajos índices de insulina. "
   ]
  },
  {
   "cell_type": "markdown",
   "metadata": {},
   "source": [
    "### 2."
   ]
  },
  {
   "cell_type": "code",
   "execution_count": 88,
   "metadata": {},
   "outputs": [
    {
     "data": {
      "text/plain": [
       "([<matplotlib.axis.XTick at 0x21c8d6d2630>,\n",
       "  <matplotlib.axis.XTick at 0x21c8d6d2588>,\n",
       "  <matplotlib.axis.XTick at 0x21c8c5c5f98>,\n",
       "  <matplotlib.axis.XTick at 0x21c8d6c7908>,\n",
       "  <matplotlib.axis.XTick at 0x21c8ca88208>,\n",
       "  <matplotlib.axis.XTick at 0x21c8c3a43c8>,\n",
       "  <matplotlib.axis.XTick at 0x21c8d738c88>,\n",
       "  <matplotlib.axis.XTick at 0x21c8d738e48>,\n",
       "  <matplotlib.axis.XTick at 0x21c8d738080>],\n",
       " <a list of 9 Text major ticklabel objects>)"
      ]
     },
     "execution_count": 88,
     "metadata": {},
     "output_type": "execute_result"
    },
    {
     "data": {
      "image/png": "[encoded data removed]",
      "text/plain": [
       "<Figure size 432x288 with 1 Axes>"
      ]
     },
     "metadata": {},
     "output_type": "display_data"
    }
   ],
   "source": [
    "sns.set(color_codes=True)\n",
    "sns.set(style=\"white\", palette=\"muted\")\n",
    "sns.distplot(df[\"glucose\"],kde=False,bins=[0,20,40,60,80,100,120,140,160,180,200])\n",
    "plt.title('Histograma para la variable `glucose`')\n",
    "plt.xlabel(\"Concentración de glucosa en la sangre (mg/dL)\")\n",
    "plt.ylabel(\"Número de observaciones \")\n",
    "plt.xticks(np.linspace(start=0, stop=200, num=9))"
   ]
  },
  {
   "cell_type": "markdown",
   "metadata": {},
   "source": [
    "Al tener una correlación fuerte con la variable target `outcome`, creemos que es importante tener un historgrama de la variable `glucose`, ya que es de esperarse que tenga un alto grado de importancia.   \n",
    "Los valores de glucosa normales para un adulto \"saludable\" (asumiendo que las pruebas se hicieron en ayunas) son de entre 80 mg/dL y 100mg/dL. Al consultar nuestro \"numeric profiling\", vemos que la media está alrededor de 120 mg/dL. \n",
    "* Notar: El promedio de observaciones para esta variable en nuestro dataset está por arriba de los ínidces saludables de glucosa en la sangre. "
   ]
  },
  {
   "cell_type": "markdown",
   "metadata": {},
   "source": [
    "## 3."
   ]
  },
  {
   "cell_type": "code",
   "execution_count": 89,
   "metadata": {},
   "outputs": [
    {
     "data": {
      "text/plain": [
       "([<matplotlib.axis.XTick at 0x21c8d72b358>,\n",
       "  <matplotlib.axis.XTick at 0x21c8d72b1d0>,\n",
       "  <matplotlib.axis.XTick at 0x21c8d72beb8>,\n",
       "  <matplotlib.axis.XTick at 0x21c8cf74c88>,\n",
       "  <matplotlib.axis.XTick at 0x21c8ea7b630>,\n",
       "  <matplotlib.axis.XTick at 0x21c8ea7bac8>,\n",
       "  <matplotlib.axis.XTick at 0x21c8ea7bf60>,\n",
       "  <matplotlib.axis.XTick at 0x21c8ea7bef0>,\n",
       "  <matplotlib.axis.XTick at 0x21c8ea7b550>],\n",
       " <a list of 9 Text major ticklabel objects>)"
      ]
     },
     "execution_count": 89,
     "metadata": {},
     "output_type": "execute_result"
    },
    {
     "data": {
      "image/png": "[encoded data removed]",
      "text/plain": [
       "<Figure size 432x288 with 1 Axes>"
      ]
     },
     "metadata": {},
     "output_type": "display_data"
    }
   ],
   "source": [
    "sns.set(color_codes=True)\n",
    "sns.set(style=\"white\", palette=\"pastel\")\n",
    "sns.distplot(df[\"insulin\"],kde=False,bins=[0,20,40,60,80,100,120,140,160,180,200])\n",
    "plt.title('Histograma para la variable `insulin`')\n",
    "plt.xlabel(\"Nivel de insulina mg/dl\")\n",
    "plt.ylabel(\"Número de observaciones \")\n",
    "plt.xticks(np.linspace(start=0, stop=200, num=9))"
   ]
  },
  {
   "cell_type": "markdown",
   "metadata": {},
   "source": [
    "Nos sorprendió que casi la mitad de las observaciones de la variable `insulin` son cero. Nosotros asumimos que esto se debe a datos faltantes de esta variable ya que al investigar un poco, encontramos que es prácticamente imposible vivir con nivel 0 de insulina en la sangre. Es importante entonces notar que esta variable tiene un altísimo número de datos faltantes y habría que considerar si realmente hay que utilizarla para el modelo. "
   ]
  },
  {
   "cell_type": "markdown",
   "metadata": {},
   "source": [
    "## 4."
   ]
  },
  {
   "cell_type": "code",
   "execution_count": 90,
   "metadata": {},
   "outputs": [
    {
     "data": {
      "text/plain": [
       "Text(0.5, 1.0, 'Diagrama de caja para la variable `edad`')"
      ]
     },
     "execution_count": 90,
     "metadata": {},
     "output_type": "execute_result"
    },
    {
     "data": {
      "image/png": "[encoded data removed]",
      "text/plain": [
       "<Figure size 432x288 with 1 Axes>"
      ]
     },
     "metadata": {},
     "output_type": "display_data"
    }
   ],
   "source": [
    "sns.set(style=\"whitegrid\")\n",
    "ax = sns.boxplot(x=df[\"age\"])\n",
    "plt.xlabel(\"Edad\")\n",
    "plt.title('Diagrama de caja para la variable `edad`')"
   ]
  },
  {
   "cell_type": "markdown",
   "metadata": {},
   "source": [
    "Nos parece importante tener una idea de la distribución de la variable `age`. Como podemos ver, la mayoría de las mujeres en nuestro set de datos están entre los 22 y los 42 años aproximadamente. En general, son mujeres relativamente jóvenes. También tenemos los datos de mujeres de edad avanzada, aunque son relativamente pocas."
   ]
  },
  {
   "cell_type": "markdown",
   "metadata": {},
   "source": [
    "## 5."
   ]
  },
  {
   "cell_type": "code",
   "execution_count": 91,
   "metadata": {},
   "outputs": [
    {
     "data": {
      "text/plain": [
       "Text(0.5, 0, 'Índice de masa corporal (Kg/(m)^2)')"
      ]
     },
     "execution_count": 91,
     "metadata": {},
     "output_type": "execute_result"
    },
    {
     "data": {
      "image/png": "[encoded data removed]",
      "text/plain": [
       "<Figure size 432x288 with 1 Axes>"
      ]
     },
     "metadata": {},
     "output_type": "display_data"
    }
   ],
   "source": [
    "sns.set(color_codes=True)\n",
    "sns.set(style=\"white\", palette=\"bright\")\n",
    "sns.distplot(df[\"bmi\"],kde=False,bins=15)\n",
    "plt.title('Histograma para la variable `bmi`')\n",
    "plt.ylabel(\"Número de observaciones registradas\")\n",
    "plt.xlabel(\"Índice de masa corporal (Kg/(m)^2)\")"
   ]
  },
  {
   "cell_type": "markdown",
   "metadata": {},
   "source": [
    "La variable `bmi` (Body Mass Index) es una proporción que asocia la masa y la estatura de una persona. Se ha visto que un alto `bmi` puede desencadenar la presencia de enfermedades graves en los humanos. Un `bmi` \"saludable\" está entre 18.5 y 24.9. Al igual que con los niveles de glucosa, vemos que muchas de nuestras observaciones tienen un `bmi` por arriba de este rango. Esto indica que gran parte de nuestras observaciones serán personas con sobrepeso. Otro punto a notar es que todos aquellos valores que están en 0 se consideran datos faltantes. "
   ]
  },
  {
   "cell_type": "markdown",
   "metadata": {},
   "source": [
    "### Definición de etiquetas:"
   ]
  },
  {
   "cell_type": "markdown",
   "metadata": {},
   "source": [
    "Si `outcome` = 0, entonces no tiene diabetes. Esta será la etiqueta negativa.\n",
    "\n",
    "Si `outcome` = 1, entonces sí tiene diabetes. Esta será la etiqueta positiva.\n",
    "\n",
    "* TP: El modelo predijo que la mujer tenía diabetes y en realidad sí tenía diabetes.\n",
    "* FP: El modelo presdijo que la mujer sí tenía diabetes y en realidad no tenía diabetes. \n",
    "* TN: El modelo presdijo que la mujer no tenía diabetes y en realidad no tenía diabetes.\n",
    "* FN: El modelo presdijo que la mujer no tenía diabetes y en realidad sí tenía diabetes.   \n",
    "\n",
    "Creemos que el error más costoso es el FN ya que si el modelo evalúa que la paciente no tiene diabetes y se confía en su outcome, la paciente no se medicará ni modificará su estilo de vida. Esto puede ser muy perjudicial ya que si un paciente diabético come y bebe como una persona sana, puede desembocar en consecuencias graves como pérdidas de extremidades o incluso la muerte. Sin mencionar el riesgo a la salud de vivir sin medicarse."
   ]
  },
  {
   "cell_type": "markdown",
   "metadata": {},
   "source": [
    "### Justificación de métricas: "
   ]
  },
  {
   "cell_type": "markdown",
   "metadata": {},
   "source": [
    "Nuestra restricción de negocio nos pide no tener más del 3% de falsos positivos. Para lograr esto, debemos priorizar no fallar si se determina una etiqueta como positiva, es decir, que se prefiera determinar muchas etiquetas como negativas y así elevar el FNR. Por un lado, si escogiéramos como métrica al “precision”, también conocido como “positive predictive value”, obtendríamos una medida de cuánto acertamos al determinar etiquetas positivas. Por otro lado, si escogiéramos al “recall”, mediríamos nuestra razón de éxito en determinar las etiquetas positivas con respecto a todas las que son realmente positivas. Además, escoger el “accuracy” no sería conveniente, puesto que nuestro set de datos tiene muchos más negativos que positivos y podría darnos una idea errónea de desempeño. Creemos que estas métricas no son las mejores para nuestra restricción de negocio, ya que el número de predicciones de etiquetas negativas tenderá a ser grande. Es por esta razón que nosotros decidimos escoger como métrica el “F1 Score”, que es la media harmónica del “precisión” y el “recall”, y así, optimizar ambos."
   ]
  },
  {
   "cell_type": "markdown",
   "metadata": {},
   "source": [
    "### Separación de datos en entrenamiento y prueba"
   ]
  },
  {
   "cell_type": "code",
   "execution_count": 92,
   "metadata": {},
   "outputs": [
    {
     "data": {
      "text/html": [
       "<div>\n",
       "<style scoped>\n",
       "    .dataframe tbody tr th:only-of-type {\n",
       "        vertical-align: middle;\n",
       "    }\n",
       "\n",
       "    .dataframe tbody tr th {\n",
       "        vertical-align: top;\n",
       "    }\n",
       "\n",
       "    .dataframe thead th {\n",
       "        text-align: right;\n",
       "    }\n",
       "</style>\n",
       "<table border=\"1\" class=\"dataframe\">\n",
       "  <thead>\n",
       "    <tr style=\"text-align: right;\">\n",
       "      <th></th>\n",
       "      <th>pregnancies</th>\n",
       "      <th>glucose</th>\n",
       "      <th>bloodpressure</th>\n",
       "      <th>skinthickness</th>\n",
       "      <th>insulin</th>\n",
       "      <th>bmi</th>\n",
       "      <th>diabetespedigreefunction</th>\n",
       "      <th>age</th>\n",
       "      <th>outcome</th>\n",
       "    </tr>\n",
       "  </thead>\n",
       "  <tbody>\n",
       "    <tr>\n",
       "      <th>0</th>\n",
       "      <td>6</td>\n",
       "      <td>148</td>\n",
       "      <td>72</td>\n",
       "      <td>35</td>\n",
       "      <td>0</td>\n",
       "      <td>33.6</td>\n",
       "      <td>0.627</td>\n",
       "      <td>50</td>\n",
       "      <td>1</td>\n",
       "    </tr>\n",
       "    <tr>\n",
       "      <th>1</th>\n",
       "      <td>1</td>\n",
       "      <td>85</td>\n",
       "      <td>66</td>\n",
       "      <td>29</td>\n",
       "      <td>0</td>\n",
       "      <td>26.6</td>\n",
       "      <td>0.351</td>\n",
       "      <td>31</td>\n",
       "      <td>0</td>\n",
       "    </tr>\n",
       "    <tr>\n",
       "      <th>2</th>\n",
       "      <td>8</td>\n",
       "      <td>183</td>\n",
       "      <td>64</td>\n",
       "      <td>0</td>\n",
       "      <td>0</td>\n",
       "      <td>23.3</td>\n",
       "      <td>0.672</td>\n",
       "      <td>32</td>\n",
       "      <td>1</td>\n",
       "    </tr>\n",
       "    <tr>\n",
       "      <th>3</th>\n",
       "      <td>1</td>\n",
       "      <td>89</td>\n",
       "      <td>66</td>\n",
       "      <td>23</td>\n",
       "      <td>94</td>\n",
       "      <td>28.1</td>\n",
       "      <td>0.167</td>\n",
       "      <td>21</td>\n",
       "      <td>0</td>\n",
       "    </tr>\n",
       "    <tr>\n",
       "      <th>4</th>\n",
       "      <td>0</td>\n",
       "      <td>137</td>\n",
       "      <td>40</td>\n",
       "      <td>35</td>\n",
       "      <td>168</td>\n",
       "      <td>43.1</td>\n",
       "      <td>2.288</td>\n",
       "      <td>33</td>\n",
       "      <td>1</td>\n",
       "    </tr>\n",
       "  </tbody>\n",
       "</table>\n",
       "</div>"
      ],
      "text/plain": [
       "   pregnancies  glucose  bloodpressure  skinthickness  insulin   bmi  \\\n",
       "0            6      148             72             35        0  33.6   \n",
       "1            1       85             66             29        0  26.6   \n",
       "2            8      183             64              0        0  23.3   \n",
       "3            1       89             66             23       94  28.1   \n",
       "4            0      137             40             35      168  43.1   \n",
       "\n",
       "   diabetespedigreefunction  age  outcome  \n",
       "0                     0.627   50        1  \n",
       "1                     0.351   31        0  \n",
       "2                     0.672   32        1  \n",
       "3                     0.167   21        0  \n",
       "4                     2.288   33        1  "
      ]
     },
     "execution_count": 92,
     "metadata": {},
     "output_type": "execute_result"
    }
   ],
   "source": [
    "df.head()"
   ]
  },
  {
   "cell_type": "code",
   "execution_count": 93,
   "metadata": {},
   "outputs": [
    {
     "name": "stdout",
     "output_type": "stream",
     "text": [
      "(768,)\n"
     ]
    },
    {
     "data": {
      "text/plain": [
       "Index(['pregnancies', 'glucose', 'bloodpressure', 'skinthickness', 'insulin',\n",
       "       'bmi', 'diabetespedigreefunction', 'age'],\n",
       "      dtype='object')"
      ]
     },
     "execution_count": 93,
     "metadata": {},
     "output_type": "execute_result"
    }
   ],
   "source": [
    "X = df.filter(['pregnancies','glucose','bloodpressure','skinthickness','insulin','bmi','diabetespedigreefunction','age'], axis=1)\n",
    "y=df.outcome\n",
    "print(y.shape)\n",
    "X.columns"
   ]
  },
  {
   "cell_type": "code",
   "execution_count": 94,
   "metadata": {},
   "outputs": [
    {
     "name": "stdout",
     "output_type": "stream",
     "text": [
      "\n",
      "X_train, y_train:  ((537, 8), (537,))\n",
      "\n",
      "X_test, y_test:  ((231, 8), (231,))\n"
     ]
    }
   ],
   "source": [
    "from sklearn.model_selection import train_test_split\n",
    "# train test split\n",
    "# utilizamos como random state la clave única menor\n",
    "X_train, X_test, y_train, y_test =  train_test_split(X, y, test_size=0.3, random_state=165815)\n",
    "print(\"\\nX_train, y_train: \", (X_train.shape, y_train.shape))\n",
    "print(\"\\nX_test, y_test: \", (X_test.shape, y_test.shape))"
   ]
  },
  {
   "cell_type": "markdown",
   "metadata": {},
   "source": [
    "### Primer k-fold cross validation con diferentes hiperparámetros"
   ]
  },
  {
   "cell_type": "code",
   "execution_count": 95,
   "metadata": {},
   "outputs": [],
   "source": [
    "from sklearn.model_selection import KFold\n",
    "from sklearn.tree import DecisionTreeClassifier, plot_tree\n",
    "from sklearn.model_selection import ParameterGrid, GridSearchCV\n",
    "import matplotlib.pyplot as plt\n",
    "%matplotlib inline\n",
    "import sklearn.metrics as mt\n",
    "from sklearn.metrics import confusion_matrix\n",
    "from sklearn.metrics import roc_auc_score, roc_curve, accuracy_score\n",
    "from sklearn.tree import DecisionTreeClassifier, plot_tree\n",
    "from sklearn.tree import DecisionTreeClassifier, plot_tree"
   ]
  },
  {
   "cell_type": "code",
   "execution_count": 96,
   "metadata": {},
   "outputs": [
    {
     "data": {
      "text/plain": [
       "'0.22.2.post1'"
      ]
     },
     "execution_count": 96,
     "metadata": {},
     "output_type": "execute_result"
    }
   ],
   "source": [
    "sklearn.__version__"
   ]
  },
  {
   "cell_type": "code",
   "execution_count": 97,
   "metadata": {},
   "outputs": [
    {
     "name": "stderr",
     "output_type": "stream",
     "text": [
      "C:\\Users\\pablo\\Anaconda3\\envs\\tareaMin\\lib\\site-packages\\sklearn\\model_selection\\_search.py:823: FutureWarning: The parameter 'iid' is deprecated in 0.22 and will be removed in 0.24.\n",
      "  \"removed in 0.24.\", FutureWarning\n"
     ]
    },
    {
     "data": {
      "text/plain": [
       "DecisionTreeClassifier(ccp_alpha=0.0, class_weight=None, criterion='gini',\n",
       "                       max_depth=10, max_features=None, max_leaf_nodes=None,\n",
       "                       min_impurity_decrease=0.0, min_impurity_split=None,\n",
       "                       min_samples_leaf=17, min_samples_split=37,\n",
       "                       min_weight_fraction_leaf=0.0, presort='deprecated',\n",
       "                       random_state=165815, splitter='best')"
      ]
     },
     "execution_count": 97,
     "metadata": {},
     "output_type": "execute_result"
    }
   ],
   "source": [
    "dt = DecisionTreeClassifier(random_state=165815)\n",
    "grid = {'min_samples_leaf': [3,5,7,11,13,15,17,19],'min_samples_split':[4,6,8,12,15,20,23,25,27,30,33,35,37,39] ,'max_depth' : [3, 10,15, 18, 20, 30, 35, 40],'criterion': ['gini', 'entropy']}\n",
    "\n",
    "gs = GridSearchCV(dt, param_grid=grid, scoring='f1', cv=10, n_jobs=-1,return_train_score=True, iid=False)\n",
    "gs.fit(X_train, y_train)\n",
    "\n",
    "#Veamos cuál fue el mejor:\n",
    "best=gs.best_estimator_\n",
    "best"
   ]
  },
  {
   "cell_type": "markdown",
   "metadata": {},
   "source": [
    "Con base en lo visto en clase y consultando referencias externas, decidimos experimentar un poco y modificar 3 hiperparámetros con varios valores distintos. Esto con el fin de asegurar que en verdad estábamos obteniendo el mejor modelo. La referencia en la que nos basamos para dar las opciones de hiperparámetros fue el siguiente artículo: https://towardsdatascience.com/how-to-tune-a-decision-tree-f03721801680. Aquí vimos que un buen rango de valores para `min_samples_leaf`es entre 2 y 20. No quisimos poner los máximos (20 y 40) para evitar overfitting. Para `min_samples_split` es entre 2 y 40. Por lo tanto, experimentamos con varios valores en esos rangos y obtuvimos los siguientes hiper parámetros para el mejor árbol:   \n",
    "\n",
    "* max_depth=10\n",
    "* min_samples_leaf=17\n",
    "* min_samples_split=37"
   ]
  },
  {
   "cell_type": "code",
   "execution_count": 98,
   "metadata": {},
   "outputs": [
    {
     "data": {
      "image/png": "[encoded data removed]",
      "text/plain": [
       "<Figure size 432x288 with 1 Axes>"
      ]
     },
     "metadata": {
      "needs_background": "light"
     },
     "output_type": "display_data"
    }
   ],
   "source": [
    "plt.clf()\n",
    "plot_tree(best)\n",
    "plt.show()"
   ]
  },
  {
   "cell_type": "code",
   "execution_count": 99,
   "metadata": {},
   "outputs": [],
   "source": [
    "def get_feature_importance(feature_importances, data):\n",
    "    fi = pd.Series(feature_importances).sort_values(ascending=False)\n",
    "    names = pd.Series(data.columns.values)\n",
    "    \n",
    "    df_1 = pd.DataFrame({'feature_importance': fi, 'column': fi.index})\n",
    "    df_2 = pd.DataFrame({'feature': names, 'column': names.index})\n",
    "    \n",
    "    df = df_2.merge(df_1).sort_values(by=\"feature_importance\", ascending=False)\n",
    "    \n",
    "    return df"
   ]
  },
  {
   "cell_type": "code",
   "execution_count": 100,
   "metadata": {
    "scrolled": true
   },
   "outputs": [
    {
     "data": {
      "text/html": [
       "<div>\n",
       "<style scoped>\n",
       "    .dataframe tbody tr th:only-of-type {\n",
       "        vertical-align: middle;\n",
       "    }\n",
       "\n",
       "    .dataframe tbody tr th {\n",
       "        vertical-align: top;\n",
       "    }\n",
       "\n",
       "    .dataframe thead th {\n",
       "        text-align: right;\n",
       "    }\n",
       "</style>\n",
       "<table border=\"1\" class=\"dataframe\">\n",
       "  <thead>\n",
       "    <tr style=\"text-align: right;\">\n",
       "      <th></th>\n",
       "      <th>feature</th>\n",
       "      <th>column</th>\n",
       "      <th>feature_importance</th>\n",
       "    </tr>\n",
       "  </thead>\n",
       "  <tbody>\n",
       "    <tr>\n",
       "      <th>1</th>\n",
       "      <td>glucose</td>\n",
       "      <td>1</td>\n",
       "      <td>0.576227</td>\n",
       "    </tr>\n",
       "    <tr>\n",
       "      <th>7</th>\n",
       "      <td>age</td>\n",
       "      <td>7</td>\n",
       "      <td>0.144131</td>\n",
       "    </tr>\n",
       "    <tr>\n",
       "      <th>5</th>\n",
       "      <td>bmi</td>\n",
       "      <td>5</td>\n",
       "      <td>0.129412</td>\n",
       "    </tr>\n",
       "    <tr>\n",
       "      <th>6</th>\n",
       "      <td>diabetespedigreefunction</td>\n",
       "      <td>6</td>\n",
       "      <td>0.089485</td>\n",
       "    </tr>\n",
       "    <tr>\n",
       "      <th>2</th>\n",
       "      <td>bloodpressure</td>\n",
       "      <td>2</td>\n",
       "      <td>0.041183</td>\n",
       "    </tr>\n",
       "    <tr>\n",
       "      <th>4</th>\n",
       "      <td>insulin</td>\n",
       "      <td>4</td>\n",
       "      <td>0.014505</td>\n",
       "    </tr>\n",
       "    <tr>\n",
       "      <th>3</th>\n",
       "      <td>skinthickness</td>\n",
       "      <td>3</td>\n",
       "      <td>0.003254</td>\n",
       "    </tr>\n",
       "    <tr>\n",
       "      <th>0</th>\n",
       "      <td>pregnancies</td>\n",
       "      <td>0</td>\n",
       "      <td>0.001803</td>\n",
       "    </tr>\n",
       "  </tbody>\n",
       "</table>\n",
       "</div>"
      ],
      "text/plain": [
       "                    feature  column  feature_importance\n",
       "1                   glucose       1            0.576227\n",
       "7                       age       7            0.144131\n",
       "5                       bmi       5            0.129412\n",
       "6  diabetespedigreefunction       6            0.089485\n",
       "2             bloodpressure       2            0.041183\n",
       "4                   insulin       4            0.014505\n",
       "3             skinthickness       3            0.003254\n",
       "0               pregnancies       0            0.001803"
      ]
     },
     "execution_count": 100,
     "metadata": {},
     "output_type": "execute_result"
    }
   ],
   "source": [
    "get_feature_importance(best.feature_importances_, X)"
   ]
  },
  {
   "cell_type": "code",
   "execution_count": 101,
   "metadata": {},
   "outputs": [],
   "source": [
    "## Estas lineas de código muestran las decisiones como condiciones\n",
    "## Las comentamos porque ocupan mucho espacio pero si las corremos, puede dar una muy buena idea de como está tomando las decisiones\n",
    "## el algoritmo. \n",
    "\n",
    "\n",
    "#from sklearn.tree import export_text\n",
    "#decisions = export_text(best, feature_names=names.to_list())\n",
    "#print(decisions)"
   ]
  },
  {
   "cell_type": "code",
   "execution_count": 102,
   "metadata": {},
   "outputs": [
    {
     "name": "stdout",
     "output_type": "stream",
     "text": [
      "[[0.85       0.15      ]\n",
      " [0.61290323 0.38709677]\n",
      " [0.4        0.6       ]\n",
      " [0.4        0.6       ]\n",
      " [0.83333333 0.16666667]\n",
      " [0.96296296 0.03703704]\n",
      " [0.85       0.15      ]\n",
      " [0.91666667 0.08333333]\n",
      " [0.86363636 0.13636364]\n",
      " [0.93333333 0.06666667]]\n"
     ]
    }
   ],
   "source": [
    "# scores de predicción del mejor modelo\n",
    "predicted_scores = best.predict_proba(X_test)\n",
    "print(predicted_scores[:10,])"
   ]
  },
  {
   "cell_type": "code",
   "execution_count": 103,
   "metadata": {},
   "outputs": [
    {
     "name": "stdout",
     "output_type": "stream",
     "text": [
      "[0 0 1 1 0 0 0 0 0 0]\n"
     ]
    }
   ],
   "source": [
    "# etiquetas de predicción del mejor modelo\n",
    "predicted_labels = best.predict(X_test)\n",
    "print(predicted_labels[:10])"
   ]
  },
  {
   "cell_type": "markdown",
   "metadata": {},
   "source": [
    "### Selección de las \"mejores\" variables\n",
    "Ya que las variables `skinthickness` y `pregnancies` no aportan ni siquiera 1% a la ganancia de información, las quitaremos. \n",
    "Además, aunque cualquier doctor puede corroborar la importancia de la hormona insulina en el transporte de la glucosa hacia los tejidos, y por lo tanto, su gran relación con la diabetes, el algoritmo nos dice que la insulina aporta poca información. En el EDA nos percatamos de que la mayoría de las observaciones de la variable `insulin` son cero, por lo que creemos que tiene sentido quitarla también ya que nivel de insulina cero se interpreta como faltante. Entonces nos quedaremos con las variables que tengan más del 4% de importancia. Nos parece que 4% es un buen punto de corte. Planeábamos dejarlo en 5% y recortar `bloodpressure` también pero entonces el segundo modelo quedaría con solo 4 variables, lo cual no nos pareció suficiente para generar un buen modelo."
   ]
  },
  {
   "cell_type": "code",
   "execution_count": 104,
   "metadata": {},
   "outputs": [
    {
     "name": "stdout",
     "output_type": "stream",
     "text": [
      "(768,)\n"
     ]
    },
    {
     "data": {
      "text/plain": [
       "Index(['glucose', 'bloodpressure', 'bmi', 'diabetespedigreefunction', 'age'], dtype='object')"
      ]
     },
     "execution_count": 104,
     "metadata": {},
     "output_type": "execute_result"
    }
   ],
   "source": [
    "#filtramos las variables\n",
    "X = df.filter(['glucose','bloodpressure','bmi','diabetespedigreefunction','age'], axis=1)\n",
    "y=df.outcome\n",
    "print(y.shape)\n",
    "X.columns"
   ]
  },
  {
   "cell_type": "code",
   "execution_count": 105,
   "metadata": {},
   "outputs": [
    {
     "name": "stdout",
     "output_type": "stream",
     "text": [
      "\n",
      "X_train, y_train:  ((537, 5), (537,))\n",
      "\n",
      "X_test, y_test:  ((231, 5), (231,))\n"
     ]
    }
   ],
   "source": [
    "#Dividimos el dataset en entrenamiento y prueba\n",
    "X_train, X_test, y_train, y_test =  train_test_split(X, y, test_size=0.3, random_state=165815)\n",
    "print(\"\\nX_train, y_train: \", (X_train.shape, y_train.shape))\n",
    "print(\"\\nX_test, y_test: \", (X_test.shape, y_test.shape))"
   ]
  },
  {
   "cell_type": "markdown",
   "metadata": {},
   "source": [
    "### Segundo k-fold cross validation con diferentes hiperparámetros y variables seleccionadas"
   ]
  },
  {
   "cell_type": "code",
   "execution_count": 106,
   "metadata": {},
   "outputs": [
    {
     "name": "stderr",
     "output_type": "stream",
     "text": [
      "C:\\Users\\pablo\\Anaconda3\\envs\\tareaMin\\lib\\site-packages\\sklearn\\model_selection\\_search.py:823: FutureWarning: The parameter 'iid' is deprecated in 0.22 and will be removed in 0.24.\n",
      "  \"removed in 0.24.\", FutureWarning\n"
     ]
    },
    {
     "data": {
      "text/plain": [
       "DecisionTreeClassifier(ccp_alpha=0.0, class_weight=None, criterion='gini',\n",
       "                       max_depth=10, max_features=None, max_leaf_nodes=None,\n",
       "                       min_impurity_decrease=0.0, min_impurity_split=None,\n",
       "                       min_samples_leaf=11, min_samples_split=25,\n",
       "                       min_weight_fraction_leaf=0.0, presort='deprecated',\n",
       "                       random_state=165815, splitter='best')"
      ]
     },
     "execution_count": 106,
     "metadata": {},
     "output_type": "execute_result"
    }
   ],
   "source": [
    "dt = DecisionTreeClassifier(random_state=165815)\n",
    "grid = {'min_samples_leaf': [3,5,7,11,13,15,17,19],'min_samples_split':[4,6,8,12,15,20,23,25,27,30,33,35,37,39] ,'max_depth' : [3, 10,15, 18, 20, 30, 35, 40],'criterion': ['gini', 'entropy']}\n",
    "gs = GridSearchCV(dt, param_grid=grid, scoring='f1', cv=10, n_jobs=-1,return_train_score=True, iid=False)\n",
    "gs.fit(X_train, y_train)\n",
    "\n",
    "#Veamos cuál fue el mejor:\n",
    "best2=gs.best_estimator_\n",
    "best2"
   ]
  },
  {
   "cell_type": "markdown",
   "metadata": {},
   "source": [
    "De nuevo, modificamos los hiperparámetros: `min_samples_leaf`,`min_samples_split` y `max_depth`. De nuevo utilizamos varias opciones en cada una y obtuvimos los siguientes hiperparámetros para el mejor árbol:   \n",
    "* max_depth=10\n",
    "* min_samples_leaf=11\n",
    "* min_samples_split=25"
   ]
  },
  {
   "cell_type": "code",
   "execution_count": 107,
   "metadata": {},
   "outputs": [
    {
     "data": {
      "image/png": "[encoded data removed]",
      "text/plain": [
       "<Figure size 432x288 with 1 Axes>"
      ]
     },
     "metadata": {
      "needs_background": "light"
     },
     "output_type": "display_data"
    }
   ],
   "source": [
    "#generamos una representación visual rápida para ver que lo hicimos bien:\n",
    "plt.clf()\n",
    "plot_tree(best2)\n",
    "plt.show()"
   ]
  },
  {
   "cell_type": "code",
   "execution_count": 108,
   "metadata": {},
   "outputs": [],
   "source": [
    "\n",
    "#from sklearn.tree import export_text\n",
    "#decisions = export_text(best2, feature_names=names.to_list())\n",
    "#print(decisions)"
   ]
  },
  {
   "cell_type": "code",
   "execution_count": 109,
   "metadata": {},
   "outputs": [
    {
     "data": {
      "text/html": [
       "<div>\n",
       "<style scoped>\n",
       "    .dataframe tbody tr th:only-of-type {\n",
       "        vertical-align: middle;\n",
       "    }\n",
       "\n",
       "    .dataframe tbody tr th {\n",
       "        vertical-align: top;\n",
       "    }\n",
       "\n",
       "    .dataframe thead th {\n",
       "        text-align: right;\n",
       "    }\n",
       "</style>\n",
       "<table border=\"1\" class=\"dataframe\">\n",
       "  <thead>\n",
       "    <tr style=\"text-align: right;\">\n",
       "      <th></th>\n",
       "      <th>index</th>\n",
       "      <th>feature</th>\n",
       "      <th>column</th>\n",
       "      <th>feature_importance</th>\n",
       "    </tr>\n",
       "  </thead>\n",
       "  <tbody>\n",
       "    <tr>\n",
       "      <th>0</th>\n",
       "      <td>0</td>\n",
       "      <td>glucose</td>\n",
       "      <td>0</td>\n",
       "      <td>0.533488</td>\n",
       "    </tr>\n",
       "    <tr>\n",
       "      <th>1</th>\n",
       "      <td>4</td>\n",
       "      <td>age</td>\n",
       "      <td>4</td>\n",
       "      <td>0.195858</td>\n",
       "    </tr>\n",
       "    <tr>\n",
       "      <th>2</th>\n",
       "      <td>2</td>\n",
       "      <td>bmi</td>\n",
       "      <td>2</td>\n",
       "      <td>0.152369</td>\n",
       "    </tr>\n",
       "    <tr>\n",
       "      <th>3</th>\n",
       "      <td>3</td>\n",
       "      <td>diabetespedigreefunction</td>\n",
       "      <td>3</td>\n",
       "      <td>0.079943</td>\n",
       "    </tr>\n",
       "    <tr>\n",
       "      <th>4</th>\n",
       "      <td>1</td>\n",
       "      <td>bloodpressure</td>\n",
       "      <td>1</td>\n",
       "      <td>0.038343</td>\n",
       "    </tr>\n",
       "  </tbody>\n",
       "</table>\n",
       "</div>"
      ],
      "text/plain": [
       "   index                   feature  column  feature_importance\n",
       "0      0                   glucose       0            0.533488\n",
       "1      4                       age       4            0.195858\n",
       "2      2                       bmi       2            0.152369\n",
       "3      3  diabetespedigreefunction       3            0.079943\n",
       "4      1             bloodpressure       1            0.038343"
      ]
     },
     "execution_count": 109,
     "metadata": {},
     "output_type": "execute_result"
    }
   ],
   "source": [
    "#Obtenemos la importancia de variables para el mejor árbol\n",
    "get_feature_importance(best2.feature_importances_, X).reset_index()"
   ]
  },
  {
   "cell_type": "code",
   "execution_count": 110,
   "metadata": {},
   "outputs": [
    {
     "name": "stdout",
     "output_type": "stream",
     "text": [
      "[[0.75       0.25      ]\n",
      " [0.42857143 0.57142857]\n",
      " [0.28571429 0.71428571]\n",
      " [0.28571429 0.71428571]\n",
      " [1.         0.        ]\n",
      " [0.78571429 0.21428571]\n",
      " [0.75       0.25      ]\n",
      " [0.93333333 0.06666667]\n",
      " [0.42857143 0.57142857]\n",
      " [0.90909091 0.09090909]]\n"
     ]
    }
   ],
   "source": [
    "# scores de predicción del mejor modelo\n",
    "predicted_scores = best2.predict_proba(X_test)\n",
    "print(predicted_scores[:10,])"
   ]
  },
  {
   "cell_type": "code",
   "execution_count": 111,
   "metadata": {},
   "outputs": [
    {
     "name": "stdout",
     "output_type": "stream",
     "text": [
      "[0 1 1 1 0 0 0 0 1 0]\n"
     ]
    }
   ],
   "source": [
    "# etiquetas de predicción del mejor modelo\n",
    "predicted_labels = best2.predict(X_test)\n",
    "print(predicted_labels[:10])"
   ]
  },
  {
   "cell_type": "markdown",
   "metadata": {},
   "source": [
    "### Desempeño"
   ]
  },
  {
   "cell_type": "code",
   "execution_count": 112,
   "metadata": {},
   "outputs": [
    {
     "data": {
      "image/png": "[encoded data removed]",
      "text/plain": [
       "<Figure size 432x288 with 1 Axes>"
      ]
     },
     "metadata": {
      "needs_background": "light"
     },
     "output_type": "display_data"
    }
   ],
   "source": [
    "#Curva ROC y AUC\n",
    "fpr, tpr, thresholds = roc_curve(y_test, predicted_scores[:,1], pos_label=1)\n",
    "   \n",
    "plt.clf()\n",
    "plt.plot([0, 1], [0, 1], 'k--', c=\"red\")\n",
    "plt.plot(fpr, tpr)\n",
    "plt.title(\"ROC test - CV:10, AUC: \" + str(roc_auc_score(y_test, predicted_scores[:,1])))\n",
    "plt.xlabel(\"fpr\")\n",
    "plt.ylabel(\"tpr\")\n",
    "plt.show()"
   ]
  },
  {
   "cell_type": "code",
   "execution_count": 113,
   "metadata": {},
   "outputs": [],
   "source": [
    "def get_metrics_report(fpr, tpr, thresholds, precision, recall, thresholds_2):\n",
    "    df_1 = pd.DataFrame({'threshold': thresholds_2,'precision': precision,\n",
    "                    'recall': recall})\n",
    "    df_1['f1_score'] = 2 * (df_1.precision * df_1.recall) / (df_1.precision + df_1.recall)\n",
    "    \n",
    "    df_2 = pd.DataFrame({'tpr': tpr, 'fpr': fpr, 'threshold': thresholds})\n",
    "    df_2['tnr'] = 1 - df_2['fpr']\n",
    "    df_2['fnr'] = 1 - df_2['tpr']\n",
    "    \n",
    "    df = df_1.merge(df_2, on=\"threshold\")\n",
    "    \n",
    "    return df"
   ]
  },
  {
   "cell_type": "markdown",
   "metadata": {},
   "source": [
    "### Accuracy"
   ]
  },
  {
   "cell_type": "code",
   "execution_count": 114,
   "metadata": {},
   "outputs": [
    {
     "name": "stdout",
     "output_type": "stream",
     "text": [
      "Accuracy Score: 0.7619047619047619\n"
     ]
    }
   ],
   "source": [
    "print(\"Accuracy Score: \"+str(accuracy_score(y_test, predicted_labels)))"
   ]
  },
  {
   "cell_type": "markdown",
   "metadata": {},
   "source": [
    "### Tabla de métricas"
   ]
  },
  {
   "cell_type": "code",
   "execution_count": 115,
   "metadata": {},
   "outputs": [],
   "source": [
    "precision, recall, thresholds_2 = mt.precision_recall_curve(y_test, predicted_scores[:,1])"
   ]
  },
  {
   "cell_type": "code",
   "execution_count": 116,
   "metadata": {},
   "outputs": [
    {
     "data": {
      "text/html": [
       "<div>\n",
       "<style scoped>\n",
       "    .dataframe tbody tr th:only-of-type {\n",
       "        vertical-align: middle;\n",
       "    }\n",
       "\n",
       "    .dataframe tbody tr th {\n",
       "        vertical-align: top;\n",
       "    }\n",
       "\n",
       "    .dataframe thead th {\n",
       "        text-align: right;\n",
       "    }\n",
       "</style>\n",
       "<table border=\"1\" class=\"dataframe\">\n",
       "  <thead>\n",
       "    <tr style=\"text-align: right;\">\n",
       "      <th></th>\n",
       "      <th>threshold</th>\n",
       "      <th>precision</th>\n",
       "      <th>recall</th>\n",
       "      <th>f1_score</th>\n",
       "      <th>tpr</th>\n",
       "      <th>fpr</th>\n",
       "      <th>tnr</th>\n",
       "      <th>fnr</th>\n",
       "    </tr>\n",
       "  </thead>\n",
       "  <tbody>\n",
       "    <tr>\n",
       "      <th>0</th>\n",
       "      <td>0.000000</td>\n",
       "      <td>0.337662</td>\n",
       "      <td>1.000000</td>\n",
       "      <td>0.504854</td>\n",
       "      <td>1.000000</td>\n",
       "      <td>1.000000</td>\n",
       "      <td>0.000000</td>\n",
       "      <td>0.000000</td>\n",
       "    </tr>\n",
       "    <tr>\n",
       "      <th>1</th>\n",
       "      <td>0.050000</td>\n",
       "      <td>0.405714</td>\n",
       "      <td>0.910256</td>\n",
       "      <td>0.561265</td>\n",
       "      <td>0.910256</td>\n",
       "      <td>0.679739</td>\n",
       "      <td>0.320261</td>\n",
       "      <td>0.089744</td>\n",
       "    </tr>\n",
       "    <tr>\n",
       "      <th>2</th>\n",
       "      <td>0.066667</td>\n",
       "      <td>0.424242</td>\n",
       "      <td>0.897436</td>\n",
       "      <td>0.576132</td>\n",
       "      <td>0.897436</td>\n",
       "      <td>0.620915</td>\n",
       "      <td>0.379085</td>\n",
       "      <td>0.102564</td>\n",
       "    </tr>\n",
       "    <tr>\n",
       "      <th>3</th>\n",
       "      <td>0.111111</td>\n",
       "      <td>0.461538</td>\n",
       "      <td>0.846154</td>\n",
       "      <td>0.597285</td>\n",
       "      <td>0.846154</td>\n",
       "      <td>0.503268</td>\n",
       "      <td>0.496732</td>\n",
       "      <td>0.153846</td>\n",
       "    </tr>\n",
       "    <tr>\n",
       "      <th>4</th>\n",
       "      <td>0.142857</td>\n",
       "      <td>0.471429</td>\n",
       "      <td>0.846154</td>\n",
       "      <td>0.605505</td>\n",
       "      <td>0.846154</td>\n",
       "      <td>0.483660</td>\n",
       "      <td>0.516340</td>\n",
       "      <td>0.153846</td>\n",
       "    </tr>\n",
       "    <tr>\n",
       "      <th>5</th>\n",
       "      <td>0.190476</td>\n",
       "      <td>0.515625</td>\n",
       "      <td>0.846154</td>\n",
       "      <td>0.640777</td>\n",
       "      <td>0.846154</td>\n",
       "      <td>0.405229</td>\n",
       "      <td>0.594771</td>\n",
       "      <td>0.153846</td>\n",
       "    </tr>\n",
       "    <tr>\n",
       "      <th>6</th>\n",
       "      <td>0.250000</td>\n",
       "      <td>0.551724</td>\n",
       "      <td>0.820513</td>\n",
       "      <td>0.659794</td>\n",
       "      <td>0.820513</td>\n",
       "      <td>0.339869</td>\n",
       "      <td>0.660131</td>\n",
       "      <td>0.179487</td>\n",
       "    </tr>\n",
       "    <tr>\n",
       "      <th>7</th>\n",
       "      <td>0.285714</td>\n",
       "      <td>0.561905</td>\n",
       "      <td>0.756410</td>\n",
       "      <td>0.644809</td>\n",
       "      <td>0.756410</td>\n",
       "      <td>0.300654</td>\n",
       "      <td>0.699346</td>\n",
       "      <td>0.243590</td>\n",
       "    </tr>\n",
       "    <tr>\n",
       "      <th>8</th>\n",
       "      <td>0.375000</td>\n",
       "      <td>0.569892</td>\n",
       "      <td>0.679487</td>\n",
       "      <td>0.619883</td>\n",
       "      <td>0.679487</td>\n",
       "      <td>0.261438</td>\n",
       "      <td>0.738562</td>\n",
       "      <td>0.320513</td>\n",
       "    </tr>\n",
       "    <tr>\n",
       "      <th>9</th>\n",
       "      <td>0.416667</td>\n",
       "      <td>0.602273</td>\n",
       "      <td>0.679487</td>\n",
       "      <td>0.638554</td>\n",
       "      <td>0.679487</td>\n",
       "      <td>0.228758</td>\n",
       "      <td>0.771242</td>\n",
       "      <td>0.320513</td>\n",
       "    </tr>\n",
       "    <tr>\n",
       "      <th>10</th>\n",
       "      <td>0.461538</td>\n",
       "      <td>0.585366</td>\n",
       "      <td>0.615385</td>\n",
       "      <td>0.600000</td>\n",
       "      <td>0.615385</td>\n",
       "      <td>0.222222</td>\n",
       "      <td>0.777778</td>\n",
       "      <td>0.384615</td>\n",
       "    </tr>\n",
       "    <tr>\n",
       "      <th>11</th>\n",
       "      <td>0.555556</td>\n",
       "      <td>0.657534</td>\n",
       "      <td>0.615385</td>\n",
       "      <td>0.635762</td>\n",
       "      <td>0.615385</td>\n",
       "      <td>0.163399</td>\n",
       "      <td>0.836601</td>\n",
       "      <td>0.384615</td>\n",
       "    </tr>\n",
       "    <tr>\n",
       "      <th>12</th>\n",
       "      <td>0.571429</td>\n",
       "      <td>0.661765</td>\n",
       "      <td>0.576923</td>\n",
       "      <td>0.616438</td>\n",
       "      <td>0.576923</td>\n",
       "      <td>0.150327</td>\n",
       "      <td>0.849673</td>\n",
       "      <td>0.423077</td>\n",
       "    </tr>\n",
       "    <tr>\n",
       "      <th>13</th>\n",
       "      <td>0.687500</td>\n",
       "      <td>0.672414</td>\n",
       "      <td>0.500000</td>\n",
       "      <td>0.573529</td>\n",
       "      <td>0.500000</td>\n",
       "      <td>0.124183</td>\n",
       "      <td>0.875817</td>\n",
       "      <td>0.500000</td>\n",
       "    </tr>\n",
       "    <tr>\n",
       "      <th>14</th>\n",
       "      <td>0.714286</td>\n",
       "      <td>0.686275</td>\n",
       "      <td>0.448718</td>\n",
       "      <td>0.542636</td>\n",
       "      <td>0.448718</td>\n",
       "      <td>0.104575</td>\n",
       "      <td>0.895425</td>\n",
       "      <td>0.551282</td>\n",
       "    </tr>\n",
       "    <tr>\n",
       "      <th>15</th>\n",
       "      <td>0.736842</td>\n",
       "      <td>0.695652</td>\n",
       "      <td>0.410256</td>\n",
       "      <td>0.516129</td>\n",
       "      <td>0.410256</td>\n",
       "      <td>0.091503</td>\n",
       "      <td>0.908497</td>\n",
       "      <td>0.589744</td>\n",
       "    </tr>\n",
       "    <tr>\n",
       "      <th>16</th>\n",
       "      <td>0.800000</td>\n",
       "      <td>0.657895</td>\n",
       "      <td>0.320513</td>\n",
       "      <td>0.431034</td>\n",
       "      <td>0.320513</td>\n",
       "      <td>0.084967</td>\n",
       "      <td>0.915033</td>\n",
       "      <td>0.679487</td>\n",
       "    </tr>\n",
       "    <tr>\n",
       "      <th>17</th>\n",
       "      <td>0.846154</td>\n",
       "      <td>0.656250</td>\n",
       "      <td>0.269231</td>\n",
       "      <td>0.381818</td>\n",
       "      <td>0.269231</td>\n",
       "      <td>0.071895</td>\n",
       "      <td>0.928105</td>\n",
       "      <td>0.730769</td>\n",
       "    </tr>\n",
       "    <tr>\n",
       "      <th>18</th>\n",
       "      <td>0.882353</td>\n",
       "      <td>0.692308</td>\n",
       "      <td>0.230769</td>\n",
       "      <td>0.346154</td>\n",
       "      <td>0.230769</td>\n",
       "      <td>0.052288</td>\n",
       "      <td>0.947712</td>\n",
       "      <td>0.769231</td>\n",
       "    </tr>\n",
       "    <tr>\n",
       "      <th>19</th>\n",
       "      <td>0.904762</td>\n",
       "      <td>0.684211</td>\n",
       "      <td>0.166667</td>\n",
       "      <td>0.268041</td>\n",
       "      <td>0.166667</td>\n",
       "      <td>0.039216</td>\n",
       "      <td>0.960784</td>\n",
       "      <td>0.833333</td>\n",
       "    </tr>\n",
       "    <tr>\n",
       "      <th>20</th>\n",
       "      <td>1.000000</td>\n",
       "      <td>0.666667</td>\n",
       "      <td>0.128205</td>\n",
       "      <td>0.215054</td>\n",
       "      <td>0.128205</td>\n",
       "      <td>0.032680</td>\n",
       "      <td>0.967320</td>\n",
       "      <td>0.871795</td>\n",
       "    </tr>\n",
       "    <tr>\n",
       "      <th>21</th>\n",
       "      <td>2.000000</td>\n",
       "      <td>1.000000</td>\n",
       "      <td>0.000000</td>\n",
       "      <td>0.000000</td>\n",
       "      <td>0.000000</td>\n",
       "      <td>0.000000</td>\n",
       "      <td>1.000000</td>\n",
       "      <td>1.000000</td>\n",
       "    </tr>\n",
       "  </tbody>\n",
       "</table>\n",
       "</div>"
      ],
      "text/plain": [
       "    threshold  precision    recall  f1_score       tpr       fpr       tnr  \\\n",
       "0    0.000000   0.337662  1.000000  0.504854  1.000000  1.000000  0.000000   \n",
       "1    0.050000   0.405714  0.910256  0.561265  0.910256  0.679739  0.320261   \n",
       "2    0.066667   0.424242  0.897436  0.576132  0.897436  0.620915  0.379085   \n",
       "3    0.111111   0.461538  0.846154  0.597285  0.846154  0.503268  0.496732   \n",
       "4    0.142857   0.471429  0.846154  0.605505  0.846154  0.483660  0.516340   \n",
       "5    0.190476   0.515625  0.846154  0.640777  0.846154  0.405229  0.594771   \n",
       "6    0.250000   0.551724  0.820513  0.659794  0.820513  0.339869  0.660131   \n",
       "7    0.285714   0.561905  0.756410  0.644809  0.756410  0.300654  0.699346   \n",
       "8    0.375000   0.569892  0.679487  0.619883  0.679487  0.261438  0.738562   \n",
       "9    0.416667   0.602273  0.679487  0.638554  0.679487  0.228758  0.771242   \n",
       "10   0.461538   0.585366  0.615385  0.600000  0.615385  0.222222  0.777778   \n",
       "11   0.555556   0.657534  0.615385  0.635762  0.615385  0.163399  0.836601   \n",
       "12   0.571429   0.661765  0.576923  0.616438  0.576923  0.150327  0.849673   \n",
       "13   0.687500   0.672414  0.500000  0.573529  0.500000  0.124183  0.875817   \n",
       "14   0.714286   0.686275  0.448718  0.542636  0.448718  0.104575  0.895425   \n",
       "15   0.736842   0.695652  0.410256  0.516129  0.410256  0.091503  0.908497   \n",
       "16   0.800000   0.657895  0.320513  0.431034  0.320513  0.084967  0.915033   \n",
       "17   0.846154   0.656250  0.269231  0.381818  0.269231  0.071895  0.928105   \n",
       "18   0.882353   0.692308  0.230769  0.346154  0.230769  0.052288  0.947712   \n",
       "19   0.904762   0.684211  0.166667  0.268041  0.166667  0.039216  0.960784   \n",
       "20   1.000000   0.666667  0.128205  0.215054  0.128205  0.032680  0.967320   \n",
       "21   2.000000   1.000000  0.000000  0.000000  0.000000  0.000000  1.000000   \n",
       "\n",
       "         fnr  \n",
       "0   0.000000  \n",
       "1   0.089744  \n",
       "2   0.102564  \n",
       "3   0.153846  \n",
       "4   0.153846  \n",
       "5   0.153846  \n",
       "6   0.179487  \n",
       "7   0.243590  \n",
       "8   0.320513  \n",
       "9   0.320513  \n",
       "10  0.384615  \n",
       "11  0.384615  \n",
       "12  0.423077  \n",
       "13  0.500000  \n",
       "14  0.551282  \n",
       "15  0.589744  \n",
       "16  0.679487  \n",
       "17  0.730769  \n",
       "18  0.769231  \n",
       "19  0.833333  \n",
       "20  0.871795  \n",
       "21  1.000000  "
      ]
     },
     "execution_count": 116,
     "metadata": {},
     "output_type": "execute_result"
    }
   ],
   "source": [
    "thresholds_2 = np.append(thresholds_2, 2.)\n",
    "metrics_report = get_metrics_report(fpr, tpr, thresholds, precision, recall, thresholds_2)\n",
    "metrics_report"
   ]
  },
  {
   "cell_type": "markdown",
   "metadata": {},
   "source": [
    "### Selección del punto de corte"
   ]
  },
  {
   "cell_type": "markdown",
   "metadata": {},
   "source": [
    "Aunque la reestricción de negocio nos indica que no podemos tener más de 3% de falsos positivos, vemos que el corte debe de ser en el índice 19 ya que es el que más se acerca. El índice 20 no se utiliza porque aunque se obtiene un menor fpr, nunca se selecciona el threshold 1 ya que no permite afinar el modelo. Escogemos entonces el punto de corte que más se aproxima a esta restricción:\n",
    "* `threshold`=0.904762\n",
    "* índice = 19 \n",
    "\n",
    "\n",
    "Esto nos indica que todo valor < 0.904762 se tomará como etiqueta negativa (0), paciente no diabética. Mientras que todo valor mayor o igual a 0.904762 se tomará como etiqueta positiva (1) es decir, la paciente es diabética. \n"
   ]
  },
  {
   "cell_type": "code",
   "execution_count": 117,
   "metadata": {},
   "outputs": [
    {
     "data": {
      "text/html": [
       "<div>\n",
       "<style scoped>\n",
       "    .dataframe tbody tr th:only-of-type {\n",
       "        vertical-align: middle;\n",
       "    }\n",
       "\n",
       "    .dataframe tbody tr th {\n",
       "        vertical-align: top;\n",
       "    }\n",
       "\n",
       "    .dataframe thead th {\n",
       "        text-align: right;\n",
       "    }\n",
       "</style>\n",
       "<table border=\"1\" class=\"dataframe\">\n",
       "  <thead>\n",
       "    <tr style=\"text-align: right;\">\n",
       "      <th></th>\n",
       "      <th>threshold</th>\n",
       "      <th>precision</th>\n",
       "      <th>recall</th>\n",
       "      <th>f1_score</th>\n",
       "      <th>tpr</th>\n",
       "      <th>fpr</th>\n",
       "      <th>tnr</th>\n",
       "      <th>fnr</th>\n",
       "    </tr>\n",
       "  </thead>\n",
       "  <tbody>\n",
       "    <tr>\n",
       "      <th>19</th>\n",
       "      <td>0.904762</td>\n",
       "      <td>0.684211</td>\n",
       "      <td>0.166667</td>\n",
       "      <td>0.268041</td>\n",
       "      <td>0.166667</td>\n",
       "      <td>0.039216</td>\n",
       "      <td>0.960784</td>\n",
       "      <td>0.833333</td>\n",
       "    </tr>\n",
       "  </tbody>\n",
       "</table>\n",
       "</div>"
      ],
      "text/plain": [
       "    threshold  precision    recall  f1_score       tpr       fpr       tnr  \\\n",
       "19   0.904762   0.684211  0.166667  0.268041  0.166667  0.039216  0.960784   \n",
       "\n",
       "         fnr  \n",
       "19  0.833333  "
      ]
     },
     "execution_count": 117,
     "metadata": {},
     "output_type": "execute_result"
    }
   ],
   "source": [
    "#Obtenemos las métricas para el threshold seleccionado. \n",
    "metrics_report[metrics_report.index == 19]"
   ]
  },
  {
   "cell_type": "code",
   "execution_count": 118,
   "metadata": {},
   "outputs": [
    {
     "data": {
      "text/plain": [
       "[0, 0, 0, 0, 0, 0, 0, 0, 0, 0]"
      ]
     },
     "execution_count": 118,
     "metadata": {},
     "output_type": "execute_result"
    }
   ],
   "source": [
    "labels_threshold = [0 if score < 0.904762 else 1 for score in predicted_scores[:,1]]\n",
    "labels_threshold[:10]"
   ]
  },
  {
   "cell_type": "code",
   "execution_count": 119,
   "metadata": {},
   "outputs": [
    {
     "data": {
      "text/plain": [
       "15"
      ]
     },
     "execution_count": 119,
     "metadata": {},
     "output_type": "execute_result"
    }
   ],
   "source": [
    "labels_w_threshold = pd.Series(labels_threshold)\n",
    "labels_w_threshold.sum()"
   ]
  },
  {
   "cell_type": "code",
   "execution_count": 120,
   "metadata": {},
   "outputs": [
    {
     "data": {
      "text/plain": [
       "658    0\n",
       "250    0\n",
       "712    1\n",
       "586    1\n",
       "410    0\n",
       "Name: outcome, dtype: int64"
      ]
     },
     "execution_count": 120,
     "metadata": {},
     "output_type": "execute_result"
    }
   ],
   "source": [
    "y_labels = pd.Series(y_test)\n",
    "y_labels.head()"
   ]
  },
  {
   "cell_type": "code",
   "execution_count": 121,
   "metadata": {},
   "outputs": [
    {
     "data": {
      "text/html": [
       "<div>\n",
       "<style scoped>\n",
       "    .dataframe tbody tr th:only-of-type {\n",
       "        vertical-align: middle;\n",
       "    }\n",
       "\n",
       "    .dataframe tbody tr th {\n",
       "        vertical-align: top;\n",
       "    }\n",
       "\n",
       "    .dataframe thead th {\n",
       "        text-align: right;\n",
       "    }\n",
       "</style>\n",
       "<table border=\"1\" class=\"dataframe\">\n",
       "  <thead>\n",
       "    <tr style=\"text-align: right;\">\n",
       "      <th></th>\n",
       "      <th>predicted</th>\n",
       "      <th>true_label</th>\n",
       "    </tr>\n",
       "  </thead>\n",
       "  <tbody>\n",
       "    <tr>\n",
       "      <th>658</th>\n",
       "      <td>0</td>\n",
       "      <td>0</td>\n",
       "    </tr>\n",
       "    <tr>\n",
       "      <th>250</th>\n",
       "      <td>0</td>\n",
       "      <td>0</td>\n",
       "    </tr>\n",
       "    <tr>\n",
       "      <th>712</th>\n",
       "      <td>0</td>\n",
       "      <td>1</td>\n",
       "    </tr>\n",
       "    <tr>\n",
       "      <th>586</th>\n",
       "      <td>0</td>\n",
       "      <td>1</td>\n",
       "    </tr>\n",
       "    <tr>\n",
       "      <th>410</th>\n",
       "      <td>0</td>\n",
       "      <td>0</td>\n",
       "    </tr>\n",
       "  </tbody>\n",
       "</table>\n",
       "</div>"
      ],
      "text/plain": [
       "     predicted  true_label\n",
       "658          0           0\n",
       "250          0           0\n",
       "712          0           1\n",
       "586          0           1\n",
       "410          0           0"
      ]
     },
     "execution_count": 121,
     "metadata": {},
     "output_type": "execute_result"
    }
   ],
   "source": [
    "df = pd.DataFrame({'predicted': labels_threshold, 'true_label': y_test})\n",
    "df.head()"
   ]
  },
  {
   "cell_type": "code",
   "execution_count": 122,
   "metadata": {},
   "outputs": [],
   "source": [
    "df['tp'] = df[['predicted','true_label']].apply(lambda x: 1 if x.true_label == 1 and x.predicted == x.true_label else 0, axis=1)\n",
    "df['fn'] = df[['predicted','true_label']].apply(lambda x: 1 if x.true_label == 1 and x.predicted != x.true_label else 0, axis=1)\n",
    "df['tn'] = df[['predicted','true_label']].apply(lambda x: 1 if x.true_label == 0 and x.predicted == x.true_label else 0, axis=1)\n",
    "df['fp'] = df[['predicted','true_label']].apply(lambda x: 1 if x.true_label == 0 and x.predicted != x.true_label else 0, axis=1)"
   ]
  },
  {
   "cell_type": "code",
   "execution_count": 123,
   "metadata": {},
   "outputs": [
    {
     "data": {
      "text/html": [
       "<div>\n",
       "<style scoped>\n",
       "    .dataframe tbody tr th:only-of-type {\n",
       "        vertical-align: middle;\n",
       "    }\n",
       "\n",
       "    .dataframe tbody tr th {\n",
       "        vertical-align: top;\n",
       "    }\n",
       "\n",
       "    .dataframe thead th {\n",
       "        text-align: right;\n",
       "    }\n",
       "</style>\n",
       "<table border=\"1\" class=\"dataframe\">\n",
       "  <thead>\n",
       "    <tr style=\"text-align: right;\">\n",
       "      <th></th>\n",
       "      <th>predicted</th>\n",
       "      <th>true_label</th>\n",
       "      <th>tp</th>\n",
       "      <th>fn</th>\n",
       "      <th>tn</th>\n",
       "      <th>fp</th>\n",
       "    </tr>\n",
       "  </thead>\n",
       "  <tbody>\n",
       "    <tr>\n",
       "      <th>658</th>\n",
       "      <td>0</td>\n",
       "      <td>0</td>\n",
       "      <td>0</td>\n",
       "      <td>0</td>\n",
       "      <td>1</td>\n",
       "      <td>0</td>\n",
       "    </tr>\n",
       "    <tr>\n",
       "      <th>250</th>\n",
       "      <td>0</td>\n",
       "      <td>0</td>\n",
       "      <td>0</td>\n",
       "      <td>0</td>\n",
       "      <td>1</td>\n",
       "      <td>0</td>\n",
       "    </tr>\n",
       "    <tr>\n",
       "      <th>712</th>\n",
       "      <td>0</td>\n",
       "      <td>1</td>\n",
       "      <td>0</td>\n",
       "      <td>1</td>\n",
       "      <td>0</td>\n",
       "      <td>0</td>\n",
       "    </tr>\n",
       "    <tr>\n",
       "      <th>586</th>\n",
       "      <td>0</td>\n",
       "      <td>1</td>\n",
       "      <td>0</td>\n",
       "      <td>1</td>\n",
       "      <td>0</td>\n",
       "      <td>0</td>\n",
       "    </tr>\n",
       "    <tr>\n",
       "      <th>410</th>\n",
       "      <td>0</td>\n",
       "      <td>0</td>\n",
       "      <td>0</td>\n",
       "      <td>0</td>\n",
       "      <td>1</td>\n",
       "      <td>0</td>\n",
       "    </tr>\n",
       "  </tbody>\n",
       "</table>\n",
       "</div>"
      ],
      "text/plain": [
       "     predicted  true_label  tp  fn  tn  fp\n",
       "658          0           0   0   0   1   0\n",
       "250          0           0   0   0   1   0\n",
       "712          0           1   0   1   0   0\n",
       "586          0           1   0   1   0   0\n",
       "410          0           0   0   0   1   0"
      ]
     },
     "execution_count": 123,
     "metadata": {},
     "output_type": "execute_result"
    }
   ],
   "source": [
    "df.head()"
   ]
  },
  {
   "cell_type": "markdown",
   "metadata": {},
   "source": [
    "### Matriz de confusión"
   ]
  },
  {
   "cell_type": "code",
   "execution_count": 124,
   "metadata": {},
   "outputs": [
    {
     "data": {
      "text/plain": [
       "array([[148,   5],\n",
       "       [ 68,  10]], dtype=int64)"
      ]
     },
     "execution_count": 124,
     "metadata": {},
     "output_type": "execute_result"
    }
   ],
   "source": [
    "confusion_matrix(y_test, labels_threshold)"
   ]
  },
  {
   "cell_type": "markdown",
   "metadata": {},
   "source": [
    "### ROC y AUC"
   ]
  },
  {
   "cell_type": "code",
   "execution_count": 125,
   "metadata": {},
   "outputs": [
    {
     "data": {
      "image/png": "[encoded data removed]",
      "text/plain": [
       "<Figure size 432x288 with 1 Axes>"
      ]
     },
     "metadata": {
      "needs_background": "light"
     },
     "output_type": "display_data"
    }
   ],
   "source": [
    "fpr, tpr, thresholds = roc_curve(y_test, predicted_scores[:,1], pos_label=1)\n",
    "   \n",
    "plt.clf()\n",
    "plt.plot([0, 1], [0, 1], 'k--', c=\"red\")\n",
    "plt.plot(fpr, tpr)\n",
    "plt.title(\"ROC test - CV:10, AUC: \" + str(roc_auc_score(y_test, predicted_scores[:,1])))\n",
    "plt.xlabel(\"fpr\")\n",
    "plt.ylabel(\"tpr\")\n",
    "plt.show()"
   ]
  },
  {
   "cell_type": "code",
   "execution_count": null,
   "metadata": {},
   "outputs": [],
   "source": []
  }
 ],
 "metadata": {
  "kernelspec": {
   "display_name": "Python 3",
   "language": "python",
   "name": "python3"
  },
  "language_info": {
   "codemirror_mode": {
    "name": "ipython",
    "version": 3
   },
   "file_extension": ".py",
   "mimetype": "text/x-python",
   "name": "python",
   "nbconvert_exporter": "python",
   "pygments_lexer": "ipython3",
   "version": "3.6.9"
  }
 },
 "nbformat": 4,
 "nbformat_minor": 4
}
